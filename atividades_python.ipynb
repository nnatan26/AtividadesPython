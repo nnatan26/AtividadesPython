{
  "cells": [
    {
      "cell_type": "markdown",
      "metadata": {
        "colab_type": "text",
        "id": "view-in-github"
      },
      "source": [
        "<a href=\"https://colab.research.google.com/github/nnatan26/AtividadesPython/blob/main/atividades_python.ipynb\" target=\"_parent\"><img src=\"https://colab.research.google.com/assets/colab-badge.svg\" alt=\"Open In Colab\"/></a>"
      ]
    },
    {
      "cell_type": "markdown",
      "metadata": {
        "id": "5KUBfOk4T3VO"
      },
      "source": [
        "Mensagem \"Olá Mundo\""
      ]
    },
    {
      "cell_type": "code",
      "execution_count": 2,
      "metadata": {
        "id": "-fOLlRl2T_PG"
      },
      "outputs": [
        {
          "name": "stdout",
          "output_type": "stream",
          "text": [
            "Olá Mundo\n"
          ]
        }
      ],
      "source": [
        "print('Olá Mundo')"
      ]
    },
    {
      "cell_type": "markdown",
      "metadata": {
        "id": "GOY8gDeIUCnu"
      },
      "source": [
        "Soma números"
      ]
    },
    {
      "cell_type": "code",
      "execution_count": 3,
      "metadata": {
        "colab": {
          "base_uri": "https://localhost:8080/"
        },
        "id": "asB3cOhFUIQG",
        "outputId": "305aec7c-3342-4f6d-d503-69ab1918bb5d"
      },
      "outputs": [
        {
          "name": "stdout",
          "output_type": "stream",
          "text": [
            "Escreva números para serem somados(Digite zero para exibir o resutado)\n",
            "Essa é a soma desses números 91\n"
          ]
        }
      ],
      "source": [
        "soma = 0\n",
        "num = 1\n",
        "print('Escreva números para serem somados(Digite zero para exibir o resutado)')\n",
        "while num!=0:\n",
        "  num = int(input())\n",
        "  soma = num + soma\n",
        "print( 'Essa é a soma desses números', soma)"
      ]
    },
    {
      "cell_type": "markdown",
      "metadata": {
        "id": "mejJ3-3IZdnF"
      },
      "source": [
        "Escreve masculino caso digite M  e feminino caso digite F"
      ]
    },
    {
      "cell_type": "code",
      "execution_count": 4,
      "metadata": {
        "colab": {
          "base_uri": "https://localhost:8080/"
        },
        "id": "mm90VftiVnAe",
        "outputId": "64538d3c-6a6d-4a5c-ad12-9ca8b175a5c3"
      },
      "outputs": [
        {
          "name": "stdout",
          "output_type": "stream",
          "text": [
            "Digite \"M\" caso o seu sexo seja masculino, e \"F\" caso seja Feminino\n",
            "M -Masculino\n"
          ]
        }
      ],
      "source": [
        "print('Digite \"M\" caso o seu sexo seja masculino, e \"F\" caso seja Feminino')\n",
        "sexo = str(input())\n",
        "if sexo == 'M':\n",
        "  print(sexo, '-Masculino')\n",
        "elif sexo == 'F':\n",
        "  print(sexo, '-Feminino')\n",
        "else:\n",
        "  print('Sexo invalido')"
      ]
    },
    {
      "cell_type": "markdown",
      "metadata": {
        "id": "haJV0r0KbxKF"
      },
      "source": [
        "Calcular as notas de um aluno e mostrar a média, aprovado, reprovado e aprovado com distinção"
      ]
    },
    {
      "cell_type": "code",
      "execution_count": 5,
      "metadata": {
        "id": "JHpSkhQhcJ3N"
      },
      "outputs": [
        {
          "name": "stdout",
          "output_type": "stream",
          "text": [
            "Escreva a sua nota da prova 1\n",
            "Escreva a nota 2\n",
            "\n",
            "Essa é a média dessas duas notas 8.5\n",
            "\n",
            "Aprovado\n"
          ]
        }
      ],
      "source": [
        "media = 0\n",
        "print('Escreva a sua nota da prova 1')\n",
        "nota1 = int(input())\n",
        "print('Escreva a nota 2')\n",
        "nota2 = int(input())\n",
        "media = nota1 + nota2\n",
        "media = media / 2\n",
        "print('\\nEssa é a média dessas duas notas', media)\n",
        "if media ==10:\n",
        "  print('\\nParabéns! aprovado com distinção!')\n",
        "elif media >=7:\n",
        "  print('\\nAprovado')\n",
        "else:\n",
        "  print('\\nReprovado')"
      ]
    },
    {
      "cell_type": "markdown",
      "metadata": {
        "id": "deBipFgbgXLE"
      },
      "source": [
        "Tabuada"
      ]
    },
    {
      "cell_type": "code",
      "execution_count": 6,
      "metadata": {
        "id": "otfqshs6gusM"
      },
      "outputs": [
        {
          "name": "stdout",
          "output_type": "stream",
          "text": [
            "Digite um número para fazer a tabuada\n",
            "8 X 0 = 0\n",
            "8 X 1 = 8\n",
            "8 X 2 = 16\n",
            "8 X 3 = 24\n",
            "8 X 4 = 32\n",
            "8 X 5 = 40\n",
            "8 X 6 = 48\n",
            "8 X 7 = 56\n",
            "8 X 8 = 64\n",
            "8 X 9 = 72\n",
            "8 X 10 = 80\n"
          ]
        }
      ],
      "source": [
        "print('Digite um número para fazer a tabuada')\n",
        "num = int(input())\n",
        "for c in range (0,11):\n",
        "  print(num, 'X', c, '=', num*c)\n"
      ]
    },
    {
      "cell_type": "markdown",
      "metadata": {
        "id": "tTwj_1SxlvAD"
      },
      "source": [
        "Mostra todos os números impares até o número escolhido"
      ]
    },
    {
      "cell_type": "code",
      "execution_count": 7,
      "metadata": {
        "id": "20bDG0v3jeRi"
      },
      "outputs": [
        {
          "name": "stdout",
          "output_type": "stream",
          "text": [
            "Escreva um número\n",
            "\n",
            "\n",
            "1\n",
            "Só um teste\n",
            "3\n",
            "Só um teste\n",
            "5\n",
            "Só um teste\n",
            "7\n",
            "Só um teste\n",
            "9\n",
            "Só um teste\n",
            "11\n",
            "Só um teste\n",
            "13\n",
            "Só um teste\n",
            "15\n",
            "Só um teste\n",
            "17\n",
            "Só um teste\n",
            "19\n",
            "Só um teste\n",
            "21\n",
            "Só um teste\n",
            "23\n",
            "Só um teste\n",
            "25\n",
            "Só um teste\n",
            "27\n",
            "Só um teste\n",
            "29\n",
            "Só um teste\n",
            "31\n",
            "Só um teste\n",
            "33\n",
            "Só um teste\n",
            "35\n",
            "Só um teste\n",
            "37\n",
            "Só um teste\n",
            "39\n",
            "Só um teste\n",
            "41\n",
            "Só um teste\n",
            "43\n",
            "Só um teste\n",
            "45\n",
            "Só um teste\n",
            "47\n",
            "Só um teste\n",
            "49\n",
            "Só um teste\n",
            "51\n",
            "Só um teste\n",
            "53\n",
            "Só um teste\n",
            "55\n",
            "Só um teste\n",
            "57\n",
            "Só um teste\n",
            "59\n",
            "Só um teste\n",
            "61\n",
            "Só um teste\n",
            "63\n",
            "Só um teste\n",
            "65\n",
            "Só um teste\n",
            "67\n",
            "Só um teste\n",
            "69\n",
            "Só um teste\n",
            "71\n",
            "Só um teste\n",
            "73\n",
            "Só um teste\n",
            "75\n",
            "Só um teste\n",
            "77\n",
            "Só um teste\n",
            "79\n",
            "Só um teste\n",
            "81\n",
            "Só um teste\n",
            "83\n",
            "Só um teste\n",
            "85\n",
            "Só um teste\n",
            "87\n",
            "Só um teste\n",
            "89\n",
            "Só um teste\n"
          ]
        }
      ],
      "source": [
        "print('Escreva um número')\n",
        "num = int(input())\n",
        "print('\\n')\n",
        "for c in range(1, num, 2):\n",
        "  print(c)"
      ]
    },
    {
      "cell_type": "markdown",
      "metadata": {
        "id": "uY0yXVoagS4N"
      },
      "source": [
        "Descobrir se um triângulo é Isóseles, Equilátero ou Esclaeno"
      ]
    },
    {
      "cell_type": "code",
      "execution_count": 8,
      "metadata": {
        "id": "ZeAl1BXD7u5L"
      },
      "outputs": [
        {
          "name": "stdout",
          "output_type": "stream",
          "text": [
            "Monte seu triangulo\n",
            "Isso não é um triângulo\n"
          ]
        }
      ],
      "source": [
        "#Faça um Programa que peça os 3 lados de um triângulo.\n",
        "#O programa deverá informar se os valores podem ser um triângulo. Indique, caso os lados formem um triângulo, se o mesmo é:\n",
        "#equilátero, isósceles ou escaleno.\n",
        "#Dicas:\n",
        "#Três lados formam um triângulo quando a soma de quaisquer dois lados for maior que o terceiro;\n",
        "#Triângulo Equilátero: três lados iguais;\n",
        "#Triângulo Isósceles: quaisquer dois lados iguais;\n",
        "#Triângulo Escaleno: três lados diferentes;\n",
        "print('Monte seu triangulo')\n",
        "lado1 = int(input())\n",
        "lado2 = int(input())\n",
        "lado3 = int(input())\n",
        "if lado1+lado2<lado3 or lado2+lado3<lado1 or lado3+lado1<lado2:\n",
        "  print('Isso não é um triângulo')\n",
        "elif lado1==lado2==lado3:\n",
        "  print('Esse é um triangulo equilátero')\n",
        "elif lado1==lado2!=lado3 or lado2==lado3!=lado1 or lado3==lado1!=lado2:\n",
        "  print('Esse é um triangulo isosceles')\n",
        "else:\n",
        "  print('Esse é um triângulo escaleno')\n",
        "\n",
        "\n",
        "\n"
      ]
    },
    {
      "cell_type": "markdown",
      "metadata": {
        "id": "ANxwftsIPr95"
      },
      "source": [
        "Calcula o crescimento populacional de um país"
      ]
    },
    {
      "cell_type": "code",
      "execution_count": 9,
      "metadata": {
        "id": "fNLoTAAVPqHi"
      },
      "outputs": [],
      "source": [
        "#Supondo que a população de um país A seja da ordem de 80000 habitantes com uma taxa anual de crescimento de 3%\n",
        "#e que a população de B seja 200000 habitantes com uma taxa de crescimento de 1.5%. Faça um programa que calcule\n",
        "#e escreva o número de anos necessários para que a população do país A ultrapasse ou iguale a população do país B, mantidas as taxas de crescimento.\n"
      ]
    },
    {
      "cell_type": "markdown",
      "metadata": {
        "id": "R1bm631-P2zz"
      },
      "source": [
        "Mensagem de Bom dia Boa tarde e Boa noite coforme o turno que está"
      ]
    },
    {
      "cell_type": "code",
      "execution_count": 10,
      "metadata": {
        "colab": {
          "base_uri": "https://localhost:8080/"
        },
        "id": "PmVyQ9z4P2VM",
        "outputId": "65b666c8-b267-4c6d-b2cf-ca9ddce45980"
      },
      "outputs": [
        {
          "name": "stdout",
          "output_type": "stream",
          "text": [
            "Em que turno você estuda? Digite: M-matutino ou V-Vespertino ou N- Noturno.\n",
            "Boa tarde!\n"
          ]
        }
      ],
      "source": [
        "print('Em que turno você estuda? Digite: M-matutino ou V-Vespertino ou N- Noturno.')\n",
        "turno = str(input())\n",
        "if turno =='M':\n",
        "  print('Bom dia!')\n",
        "elif turno == 'V':\n",
        "  print('Boa tarde!')\n",
        "elif turno =='N':\n",
        "  print('Boa noite!')\n",
        "else:\n",
        "  print('Código inváido.')"
      ]
    }
  ],
  "metadata": {
    "colab": {
      "authorship_tag": "ABX9TyP7EJNtONRYOO4nNryciAYN",
      "include_colab_link": true,
      "provenance": []
    },
    "kernelspec": {
      "display_name": "Python 3",
      "name": "python3"
    },
    "language_info": {
      "codemirror_mode": {
        "name": "ipython",
        "version": 3
      },
      "file_extension": ".py",
      "mimetype": "text/x-python",
      "name": "python",
      "nbconvert_exporter": "python",
      "pygments_lexer": "ipython3",
      "version": "3.11.4"
    }
  },
  "nbformat": 4,
  "nbformat_minor": 0
}
